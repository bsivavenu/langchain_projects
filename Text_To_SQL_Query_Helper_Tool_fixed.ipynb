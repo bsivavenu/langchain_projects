{
 "cells": [
  {
   "cell_type": "code",
   "execution_count": null,
   "id": "2b91b7d5",
   "metadata": {},
   "outputs": [],
   "source": [
    "# Hugging Face Transformers is an open-source framework for deep learning created by Hugging Face.\n",
    "# It provides APIs and tools to download state-of-the-art pre-trained models and further tune them to maximize performance.\n",
    "\n",
    ",\n",
    ",\n",
    ",\n",
    ","
   ]
  }
 ],
 "metadata": {
  "language_info": {
   "name": "python"
  }
 },
 "nbformat": 4,
 "nbformat_minor": 5
}
